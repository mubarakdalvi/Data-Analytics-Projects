{
  "nbformat": 4,
  "nbformat_minor": 0,
  "metadata": {
    "colab": {
      "provenance": [],
      "authorship_tag": "ABX9TyMgUwpxwK6oHrru/rwROHkW",
      "include_colab_link": true
    },
    "kernelspec": {
      "name": "python3",
      "display_name": "Python 3"
    },
    "language_info": {
      "name": "python"
    }
  },
  "cells": [
    {
      "cell_type": "markdown",
      "metadata": {
        "id": "view-in-github",
        "colab_type": "text"
      },
      "source": [
        "<a href=\"https://colab.research.google.com/github/mubarakdalvi/Data-Analytics-Projects/blob/main/1000_Fake_credit_card_data.ipynb\" target=\"_parent\"><img src=\"https://colab.research.google.com/assets/colab-badge.svg\" alt=\"Open In Colab\"/></a>"
      ]
    },
    {
      "cell_type": "code",
      "source": [
        "import random"
      ],
      "metadata": {
        "id": "dQYEiJJ1zygw"
      },
      "execution_count": 5,
      "outputs": []
    },
    {
      "cell_type": "code",
      "source": [
        "Visa_creditCard = set()\n",
        "MasterCard_creditCard = set()\n",
        "Amex_creditCard = set()\n",
        "Discover_creditCard = set()\n",
        "def generate_card_number():\n",
        "  i = 0\n",
        "  while i < 1:\n",
        "    card_type = random.choice(['Visa','MasterCard','Amex','Discover'])\n",
        "    if card_type == 'Visa':\n",
        "      Visa_creditCard.add(random.randint(4000000000000000,4999999999999999))\n",
        "    elif card_type == 'MasterCard':\n",
        "      MasterCard_creditCard.add(random.randint(5000000000000000,5999999999999999))\n",
        "    elif card_type == 'Amex':\n",
        "      Amex_creditCard.add(random.choice([random.randint(400000000000000,499999999999999),random.randint(700000000000000,799999999999999)]))\n",
        "    elif card_type == 'Discover':\n",
        "      Discover_creditCard.add(random.randint(6000000000000000,6999999999999999))\n",
        "    i += 1\n",
        "  return len(Visa_creditCard),len(MasterCard_creditCard),len(Amex_creditCard),len(Discover_creditCard)\n",
        "print(generate_card_number())"
      ],
      "metadata": {
        "id": "dyHTUHiekfso",
        "colab": {
          "base_uri": "https://localhost:8080/"
        },
        "outputId": "09bc1f79-312a-4d63-8c82-140a92f49ff8"
      },
      "execution_count": 7,
      "outputs": [
        {
          "output_type": "stream",
          "name": "stdout",
          "text": [
            "(1, 0, 0, 0)\n"
          ]
        }
      ]
    }
  ]
}